{
 "cells": [
  {
   "cell_type": "code",
   "execution_count": 30,
   "metadata": {},
   "outputs": [],
   "source": [
    "import pandas as pd\n",
    "from sklearn.model_selection import train_test_split\n",
    "from sklearn.preprocessing import StandardScaler, LabelEncoder\n"
   ]
  },
  {
   "cell_type": "code",
   "execution_count": null,
   "metadata": {},
   "outputs": [],
   "source": []
  },
  {
   "cell_type": "code",
   "execution_count": 31,
   "metadata": {
    "scrolled": true
   },
   "outputs": [
    {
     "data": {
      "text/html": [
       "<div>\n",
       "<style scoped>\n",
       "    .dataframe tbody tr th:only-of-type {\n",
       "        vertical-align: middle;\n",
       "    }\n",
       "\n",
       "    .dataframe tbody tr th {\n",
       "        vertical-align: top;\n",
       "    }\n",
       "\n",
       "    .dataframe thead th {\n",
       "        text-align: right;\n",
       "    }\n",
       "</style>\n",
       "<table border=\"1\" class=\"dataframe\">\n",
       "  <thead>\n",
       "    <tr style=\"text-align: right;\">\n",
       "      <th></th>\n",
       "      <th>ReportAsOfEOD</th>\n",
       "      <th>LoanId</th>\n",
       "      <th>LoanNumber</th>\n",
       "      <th>ListedOnUTC</th>\n",
       "      <th>BiddingStartedOn</th>\n",
       "      <th>BidsPortfolioManager</th>\n",
       "      <th>BidsApi</th>\n",
       "      <th>BidsManual</th>\n",
       "      <th>UserName</th>\n",
       "      <th>NewCreditCustomer</th>\n",
       "      <th>...</th>\n",
       "      <th>PreviousEarlyRepaymentsCountBeforeLoan</th>\n",
       "      <th>GracePeriodStart</th>\n",
       "      <th>GracePeriodEnd</th>\n",
       "      <th>NextPaymentDate</th>\n",
       "      <th>NextPaymentNr</th>\n",
       "      <th>NrOfScheduledPayments</th>\n",
       "      <th>ReScheduledOn</th>\n",
       "      <th>PrincipalDebtServicingCost</th>\n",
       "      <th>InterestAndPenaltyDebtServicingCost</th>\n",
       "      <th>ActiveLateLastPaymentCategory</th>\n",
       "    </tr>\n",
       "  </thead>\n",
       "  <tbody>\n",
       "    <tr>\n",
       "      <th>0</th>\n",
       "      <td>2020-01-27</td>\n",
       "      <td>F0660C80-83F3-4A97-8DA0-9C250112D6EC</td>\n",
       "      <td>659</td>\n",
       "      <td>2009-06-11 16:40:39</td>\n",
       "      <td>2009-06-11 16:40:39</td>\n",
       "      <td>0</td>\n",
       "      <td>0</td>\n",
       "      <td>115.0410</td>\n",
       "      <td>KARU</td>\n",
       "      <td>True</td>\n",
       "      <td>...</td>\n",
       "      <td>0</td>\n",
       "      <td>NaN</td>\n",
       "      <td>NaN</td>\n",
       "      <td>NaN</td>\n",
       "      <td>NaN</td>\n",
       "      <td>NaN</td>\n",
       "      <td>NaN</td>\n",
       "      <td>0.0</td>\n",
       "      <td>0.0</td>\n",
       "      <td>NaN</td>\n",
       "    </tr>\n",
       "    <tr>\n",
       "      <th>1</th>\n",
       "      <td>2020-01-27</td>\n",
       "      <td>978BB85B-1C69-4D51-8447-9C240104A3A2</td>\n",
       "      <td>654</td>\n",
       "      <td>2009-06-10 15:48:57</td>\n",
       "      <td>2009-06-10 15:48:57</td>\n",
       "      <td>0</td>\n",
       "      <td>0</td>\n",
       "      <td>140.6057</td>\n",
       "      <td>koort681</td>\n",
       "      <td>False</td>\n",
       "      <td>...</td>\n",
       "      <td>0</td>\n",
       "      <td>NaN</td>\n",
       "      <td>NaN</td>\n",
       "      <td>NaN</td>\n",
       "      <td>NaN</td>\n",
       "      <td>NaN</td>\n",
       "      <td>NaN</td>\n",
       "      <td>0.0</td>\n",
       "      <td>0.0</td>\n",
       "      <td>NaN</td>\n",
       "    </tr>\n",
       "    <tr>\n",
       "      <th>2</th>\n",
       "      <td>2020-01-27</td>\n",
       "      <td>EA44027E-7FA7-4BB2-846D-9C1F013C8A22</td>\n",
       "      <td>641</td>\n",
       "      <td>2009-06-05 19:12:29</td>\n",
       "      <td>2009-06-05 19:12:29</td>\n",
       "      <td>0</td>\n",
       "      <td>0</td>\n",
       "      <td>319.5580</td>\n",
       "      <td>0ie</td>\n",
       "      <td>True</td>\n",
       "      <td>...</td>\n",
       "      <td>0</td>\n",
       "      <td>NaN</td>\n",
       "      <td>NaN</td>\n",
       "      <td>NaN</td>\n",
       "      <td>NaN</td>\n",
       "      <td>NaN</td>\n",
       "      <td>NaN</td>\n",
       "      <td>0.0</td>\n",
       "      <td>0.0</td>\n",
       "      <td>180+</td>\n",
       "    </tr>\n",
       "    <tr>\n",
       "      <th>3</th>\n",
       "      <td>2020-01-27</td>\n",
       "      <td>CE67AD25-2951-4BEE-96BD-9C2700C61EF4</td>\n",
       "      <td>668</td>\n",
       "      <td>2009-06-13 12:01:20</td>\n",
       "      <td>2009-06-13 12:01:20</td>\n",
       "      <td>0</td>\n",
       "      <td>0</td>\n",
       "      <td>57.5205</td>\n",
       "      <td>Alyona</td>\n",
       "      <td>True</td>\n",
       "      <td>...</td>\n",
       "      <td>0</td>\n",
       "      <td>NaN</td>\n",
       "      <td>NaN</td>\n",
       "      <td>NaN</td>\n",
       "      <td>NaN</td>\n",
       "      <td>NaN</td>\n",
       "      <td>NaN</td>\n",
       "      <td>0.0</td>\n",
       "      <td>0.0</td>\n",
       "      <td>NaN</td>\n",
       "    </tr>\n",
       "    <tr>\n",
       "      <th>4</th>\n",
       "      <td>2020-01-27</td>\n",
       "      <td>9408BF8C-B159-4D6A-9D61-9C2400A986E3</td>\n",
       "      <td>652</td>\n",
       "      <td>2009-06-10 10:17:13</td>\n",
       "      <td>2009-06-10 10:17:13</td>\n",
       "      <td>0</td>\n",
       "      <td>0</td>\n",
       "      <td>319.5582</td>\n",
       "      <td>Kai</td>\n",
       "      <td>True</td>\n",
       "      <td>...</td>\n",
       "      <td>0</td>\n",
       "      <td>NaN</td>\n",
       "      <td>NaN</td>\n",
       "      <td>NaN</td>\n",
       "      <td>NaN</td>\n",
       "      <td>NaN</td>\n",
       "      <td>NaN</td>\n",
       "      <td>0.0</td>\n",
       "      <td>0.0</td>\n",
       "      <td>180+</td>\n",
       "    </tr>\n",
       "  </tbody>\n",
       "</table>\n",
       "<p>5 rows × 112 columns</p>\n",
       "</div>"
      ],
      "text/plain": [
       "  ReportAsOfEOD                                LoanId  LoanNumber  \\\n",
       "0    2020-01-27  F0660C80-83F3-4A97-8DA0-9C250112D6EC         659   \n",
       "1    2020-01-27  978BB85B-1C69-4D51-8447-9C240104A3A2         654   \n",
       "2    2020-01-27  EA44027E-7FA7-4BB2-846D-9C1F013C8A22         641   \n",
       "3    2020-01-27  CE67AD25-2951-4BEE-96BD-9C2700C61EF4         668   \n",
       "4    2020-01-27  9408BF8C-B159-4D6A-9D61-9C2400A986E3         652   \n",
       "\n",
       "           ListedOnUTC     BiddingStartedOn  BidsPortfolioManager  BidsApi  \\\n",
       "0  2009-06-11 16:40:39  2009-06-11 16:40:39                     0        0   \n",
       "1  2009-06-10 15:48:57  2009-06-10 15:48:57                     0        0   \n",
       "2  2009-06-05 19:12:29  2009-06-05 19:12:29                     0        0   \n",
       "3  2009-06-13 12:01:20  2009-06-13 12:01:20                     0        0   \n",
       "4  2009-06-10 10:17:13  2009-06-10 10:17:13                     0        0   \n",
       "\n",
       "   BidsManual  UserName  NewCreditCustomer  ...  \\\n",
       "0    115.0410      KARU               True  ...   \n",
       "1    140.6057  koort681              False  ...   \n",
       "2    319.5580       0ie               True  ...   \n",
       "3     57.5205    Alyona               True  ...   \n",
       "4    319.5582       Kai               True  ...   \n",
       "\n",
       "  PreviousEarlyRepaymentsCountBeforeLoan GracePeriodStart GracePeriodEnd  \\\n",
       "0                                      0              NaN            NaN   \n",
       "1                                      0              NaN            NaN   \n",
       "2                                      0              NaN            NaN   \n",
       "3                                      0              NaN            NaN   \n",
       "4                                      0              NaN            NaN   \n",
       "\n",
       "  NextPaymentDate NextPaymentNr NrOfScheduledPayments  ReScheduledOn  \\\n",
       "0             NaN           NaN                   NaN            NaN   \n",
       "1             NaN           NaN                   NaN            NaN   \n",
       "2             NaN           NaN                   NaN            NaN   \n",
       "3             NaN           NaN                   NaN            NaN   \n",
       "4             NaN           NaN                   NaN            NaN   \n",
       "\n",
       "   PrincipalDebtServicingCost  InterestAndPenaltyDebtServicingCost  \\\n",
       "0                         0.0                                  0.0   \n",
       "1                         0.0                                  0.0   \n",
       "2                         0.0                                  0.0   \n",
       "3                         0.0                                  0.0   \n",
       "4                         0.0                                  0.0   \n",
       "\n",
       "   ActiveLateLastPaymentCategory  \n",
       "0                            NaN  \n",
       "1                            NaN  \n",
       "2                           180+  \n",
       "3                            NaN  \n",
       "4                           180+  \n",
       "\n",
       "[5 rows x 112 columns]"
      ]
     },
     "execution_count": 31,
     "metadata": {},
     "output_type": "execute_result"
    }
   ],
   "source": [
    "# Load data\n",
    "data = pd.read_csv('../data/raw_loan_dataset.csv',low_memory=False )\n",
    "data.head()\n"
   ]
  },
  {
   "cell_type": "code",
   "execution_count": 32,
   "metadata": {},
   "outputs": [
    {
     "data": {
      "text/plain": [
       "(134529, 112)"
      ]
     },
     "execution_count": 32,
     "metadata": {},
     "output_type": "execute_result"
    }
   ],
   "source": [
    "data.shape"
   ]
  },
  {
   "cell_type": "code",
   "execution_count": 33,
   "metadata": {},
   "outputs": [
    {
     "name": "stdout",
     "output_type": "stream",
     "text": [
      "<class 'pandas.core.frame.DataFrame'>\n",
      "RangeIndex: 134529 entries, 0 to 134528\n",
      "Columns: 112 entries, ReportAsOfEOD to ActiveLateLastPaymentCategory\n",
      "dtypes: bool(3), float64(56), int64(14), object(39)\n",
      "memory usage: 112.3+ MB\n"
     ]
    }
   ],
   "source": [
    "data.info()"
   ]
  },
  {
   "cell_type": "code",
   "execution_count": 34,
   "metadata": {},
   "outputs": [
    {
     "data": {
      "text/plain": [
       "Status\n",
       "Current    57135\n",
       "Late       45772\n",
       "Repaid     31622\n",
       "Name: count, dtype: int64"
      ]
     },
     "execution_count": 34,
     "metadata": {},
     "output_type": "execute_result"
    }
   ],
   "source": [
    "data['Status'].value_counts()"
   ]
  },
  {
   "cell_type": "code",
   "execution_count": 35,
   "metadata": {},
   "outputs": [
    {
     "data": {
      "text/plain": [
       "True"
      ]
     },
     "execution_count": 35,
     "metadata": {},
     "output_type": "execute_result"
    }
   ],
   "source": [
    "data.isnull().values.any()"
   ]
  },
  {
   "cell_type": "code",
   "execution_count": null,
   "metadata": {},
   "outputs": [],
   "source": []
  },
  {
   "cell_type": "code",
   "execution_count": null,
   "metadata": {},
   "outputs": [],
   "source": []
  },
  {
   "cell_type": "code",
   "execution_count": 37,
   "metadata": {},
   "outputs": [
    {
     "data": {
      "text/plain": [
       "ReportAsOfEOD                           0.000000\n",
       "LoanId                                  0.000000\n",
       "LoanNumber                              0.000000\n",
       "ListedOnUTC                             0.000000\n",
       "BiddingStartedOn                        0.000000\n",
       "                                         ...    \n",
       "NrOfScheduledPayments                  27.310840\n",
       "ReScheduledOn                          70.027280\n",
       "PrincipalDebtServicingCost             56.047395\n",
       "InterestAndPenaltyDebtServicingCost    56.047395\n",
       "ActiveLateLastPaymentCategory          61.160791\n",
       "Length: 112, dtype: float64"
      ]
     },
     "execution_count": 37,
     "metadata": {},
     "output_type": "execute_result"
    }
   ],
   "source": [
    "missing_percentage = data.isnull().mean() * 100\n",
    "missing_percentage"
   ]
  },
  {
   "cell_type": "code",
   "execution_count": 38,
   "metadata": {},
   "outputs": [
    {
     "data": {
      "text/plain": [
       "Index(['ContractEndDate', 'NrOfDependants', 'EmploymentPosition',\n",
       "       'WorkExperience', 'PlannedPrincipalTillDate', 'CurrentDebtDaysPrimary',\n",
       "       'DebtOccuredOn', 'CurrentDebtDaysSecondary',\n",
       "       'DebtOccuredOnForSecondary', 'DefaultDate',\n",
       "       'PlannedPrincipalPostDefault', 'PlannedInterestPostDefault', 'EAD1',\n",
       "       'EAD2', 'PrincipalRecovery', 'InterestRecovery', 'RecoveryStage',\n",
       "       'EL_V0', 'Rating_V0', 'EL_V1', 'Rating_V1', 'Rating_V2',\n",
       "       'ActiveLateCategory', 'CreditScoreEsEquifaxRisk',\n",
       "       'CreditScoreFiAsiakasTietoRiskGrade', 'CreditScoreEeMini',\n",
       "       'PrincipalWriteOffs', 'InterestAndPenaltyWriteOffs',\n",
       "       'PreviousEarlyRepaymentsBefoleLoan', 'GracePeriodStart',\n",
       "       'GracePeriodEnd', 'NextPaymentDate', 'ReScheduledOn',\n",
       "       'PrincipalDebtServicingCost', 'InterestAndPenaltyDebtServicingCost',\n",
       "       'ActiveLateLastPaymentCategory'],\n",
       "      dtype='object')"
      ]
     },
     "execution_count": 38,
     "metadata": {},
     "output_type": "execute_result"
    }
   ],
   "source": [
    "missing_columns = data.columns[100*(data.isnull().sum()/len(data.index)) > 40]\n",
    "missing_columns"
   ]
  },
  {
   "cell_type": "code",
   "execution_count": 39,
   "metadata": {},
   "outputs": [],
   "source": [
    "lose_data = ['ContractEndDate', 'NrOfDependants', 'EmploymentPosition',\n",
    "       'WorkExperience', 'PlannedPrincipalTillDate', 'CurrentDebtDaysPrimary',\n",
    "       'DebtOccuredOn', 'CurrentDebtDaysSecondary',\n",
    "       'DebtOccuredOnForSecondary', 'DefaultDate',\n",
    "       'PlannedPrincipalPostDefault', 'PlannedInterestPostDefault', 'EAD1',\n",
    "       'EAD2', 'PrincipalRecovery', 'InterestRecovery', 'RecoveryStage',\n",
    "       'EL_V0', 'Rating_V0', 'EL_V1', 'Rating_V1', 'Rating_V2',\n",
    "       'ActiveLateCategory', 'CreditScoreEsEquifaxRisk',\n",
    "       'CreditScoreFiAsiakasTietoRiskGrade', 'CreditScoreEeMini',\n",
    "       'PrincipalWriteOffs', 'InterestAndPenaltyWriteOffs',\n",
    "       'PreviousEarlyRepaymentsBefoleLoan', 'GracePeriodStart',\n",
    "       'GracePeriodEnd', 'NextPaymentDate', 'ReScheduledOn',\n",
    "       'PrincipalDebtServicingCost', 'InterestAndPenaltyDebtServicingCost',\n",
    "       'ActiveLateLastPaymentCategory']\n"
   ]
  },
  {
   "cell_type": "code",
   "execution_count": 40,
   "metadata": {},
   "outputs": [
    {
     "data": {
      "text/plain": [
       "(134529, 112)"
      ]
     },
     "execution_count": 40,
     "metadata": {},
     "output_type": "execute_result"
    }
   ],
   "source": [
    "data.shape"
   ]
  },
  {
   "cell_type": "code",
   "execution_count": 41,
   "metadata": {},
   "outputs": [
    {
     "name": "stdout",
     "output_type": "stream",
     "text": [
      "<class 'pandas.core.frame.DataFrame'>\n",
      "RangeIndex: 134529 entries, 0 to 134528\n",
      "Data columns (total 76 columns):\n",
      " #   Column                                  Non-Null Count   Dtype  \n",
      "---  ------                                  --------------   -----  \n",
      " 0   ReportAsOfEOD                           134529 non-null  object \n",
      " 1   LoanId                                  134529 non-null  object \n",
      " 2   LoanNumber                              134529 non-null  int64  \n",
      " 3   ListedOnUTC                             134529 non-null  object \n",
      " 4   BiddingStartedOn                        134529 non-null  object \n",
      " 5   BidsPortfolioManager                    134529 non-null  int64  \n",
      " 6   BidsApi                                 134529 non-null  int64  \n",
      " 7   BidsManual                              134529 non-null  float64\n",
      " 8   UserName                                134529 non-null  object \n",
      " 9   NewCreditCustomer                       134529 non-null  bool   \n",
      " 10  LoanApplicationStartedDate              134529 non-null  object \n",
      " 11  LoanDate                                134529 non-null  object \n",
      " 12  FirstPaymentDate                        134529 non-null  object \n",
      " 13  MaturityDate_Original                   134529 non-null  object \n",
      " 14  MaturityDate_Last                       134529 non-null  object \n",
      " 15  ApplicationSignedHour                   134529 non-null  int64  \n",
      " 16  ApplicationSignedWeekday                134529 non-null  int64  \n",
      " 17  VerificationType                        134484 non-null  float64\n",
      " 18  LanguageCode                            134529 non-null  int64  \n",
      " 19  Age                                     134529 non-null  int64  \n",
      " 20  DateOfBirth                             134529 non-null  object \n",
      " 21  Gender                                  134484 non-null  float64\n",
      " 22  Country                                 134529 non-null  object \n",
      " 23  AppliedAmount                           134529 non-null  float64\n",
      " 24  Amount                                  134529 non-null  float64\n",
      " 25  Interest                                134529 non-null  float64\n",
      " 26  LoanDuration                            134529 non-null  int64  \n",
      " 27  MonthlyPayment                          127844 non-null  float64\n",
      " 28  County                                  97689 non-null   object \n",
      " 29  City                                    124735 non-null  object \n",
      " 30  UseOfLoan                               134529 non-null  int64  \n",
      " 31  Education                               134484 non-null  float64\n",
      " 32  MaritalStatus                           134484 non-null  float64\n",
      " 33  EmploymentStatus                        134332 non-null  float64\n",
      " 34  EmploymentDurationCurrentEmployer       133653 non-null  object \n",
      " 35  OccupationArea                          134443 non-null  float64\n",
      " 36  HomeOwnershipType                       132877 non-null  float64\n",
      " 37  IncomeFromPrincipalEmployer             134529 non-null  float64\n",
      " 38  IncomeFromPension                       134529 non-null  float64\n",
      " 39  IncomeFromFamilyAllowance               134529 non-null  float64\n",
      " 40  IncomeFromSocialWelfare                 134529 non-null  float64\n",
      " 41  IncomeFromLeavePay                      134529 non-null  float64\n",
      " 42  IncomeFromChildSupport                  134529 non-null  float64\n",
      " 43  IncomeOther                             134529 non-null  float64\n",
      " 44  IncomeTotal                             134529 non-null  float64\n",
      " 45  ExistingLiabilities                     134529 non-null  int64  \n",
      " 46  LiabilitiesTotal                        134529 non-null  float64\n",
      " 47  RefinanceLiabilities                    134529 non-null  int64  \n",
      " 48  DebtToIncome                            134484 non-null  float64\n",
      " 49  FreeCash                                134484 non-null  float64\n",
      " 50  MonthlyPaymentDay                       134529 non-null  int64  \n",
      " 51  ActiveScheduleFirstPaymentReached       134529 non-null  bool   \n",
      " 52  PlannedInterestTillDate                 130587 non-null  float64\n",
      " 53  LastPaymentOn                           124998 non-null  object \n",
      " 54  ExpectedLoss                            131893 non-null  float64\n",
      " 55  LossGivenDefault                        131893 non-null  float64\n",
      " 56  ExpectedReturn                          131893 non-null  float64\n",
      " 57  ProbabilityOfDefault                    131893 non-null  float64\n",
      " 58  PrincipalOverdueBySchedule              119692 non-null  float64\n",
      " 59  StageActiveSince                        80954 non-null   object \n",
      " 60  ModelVersion                            131893 non-null  float64\n",
      " 61  Rating                                  131799 non-null  object \n",
      " 62  Status                                  134529 non-null  object \n",
      " 63  Restructured                            134529 non-null  bool   \n",
      " 64  WorseLateCategory                       89073 non-null   object \n",
      " 65  CreditScoreEsMicroL                     104955 non-null  object \n",
      " 66  PrincipalPaymentsMade                   134529 non-null  float64\n",
      " 67  InterestAndPenaltyPaymentsMade          134529 non-null  float64\n",
      " 68  PrincipalBalance                        134529 non-null  float64\n",
      " 69  InterestAndPenaltyBalance               134529 non-null  float64\n",
      " 70  NoOfPreviousLoansBeforeLoan             134529 non-null  int64  \n",
      " 71  AmountOfPreviousLoansBeforeLoan         134529 non-null  float64\n",
      " 72  PreviousRepaymentsBeforeLoan            91368 non-null   float64\n",
      " 73  PreviousEarlyRepaymentsCountBeforeLoan  134529 non-null  int64  \n",
      " 74  NextPaymentNr                           97788 non-null   float64\n",
      " 75  NrOfScheduledPayments                   97788 non-null   float64\n",
      "dtypes: bool(3), float64(38), int64(14), object(21)\n",
      "memory usage: 75.3+ MB\n"
     ]
    }
   ],
   "source": [
    "new_df = data.drop(lose_data, axis=1)\n",
    "new_df.info()"
   ]
  },
  {
   "cell_type": "code",
   "execution_count": null,
   "metadata": {},
   "outputs": [],
   "source": []
  },
  {
   "cell_type": "code",
   "execution_count": null,
   "metadata": {},
   "outputs": [],
   "source": []
  },
  {
   "cell_type": "code",
   "execution_count": null,
   "metadata": {},
   "outputs": [],
   "source": []
  },
  {
   "cell_type": "code",
   "execution_count": null,
   "metadata": {},
   "outputs": [],
   "source": []
  },
  {
   "cell_type": "code",
   "execution_count": null,
   "metadata": {},
   "outputs": [],
   "source": [
    "\n",
    "# Handle missing values\n",
    "data.dropna(inplace=True)\n",
    "\n",
    "# Encode categorical variables\n",
    "label_encoders = {}\n",
    "for column in categorical_columns:\n",
    "    label_encoders[column] = LabelEncoder()\n",
    "    data[column] = label_encoders[column].fit_transform(data[column])\n",
    "\n",
    "# Split data into features and target variable\n",
    "X = data.drop(columns=['target_variable'])\n",
    "y = data['target_variable']\n"
   ]
  },
  {
   "cell_type": "code",
   "execution_count": null,
   "metadata": {},
   "outputs": [],
   "source": [
    "# Scale numerical features\n",
    "scaler = StandardScaler()\n",
    "X[numerical_columns] = scaler.fit_transform(X[numerical_columns])\n",
    "\n",
    "# Split data into training and testing sets\n",
    "X_train, X_test, y_train, y_test = train_test_split(X, y, test_size=0.2, random_state=42)\n"
   ]
  },
  {
   "cell_type": "code",
   "execution_count": null,
   "metadata": {},
   "outputs": [],
   "source": []
  },
  {
   "cell_type": "code",
   "execution_count": null,
   "metadata": {},
   "outputs": [],
   "source": []
  },
  {
   "cell_type": "code",
   "execution_count": null,
   "metadata": {},
   "outputs": [],
   "source": []
  }
 ],
 "metadata": {
  "kernelspec": {
   "display_name": "Python 3 (ipykernel)",
   "language": "python",
   "name": "python3"
  },
  "language_info": {
   "codemirror_mode": {
    "name": "ipython",
    "version": 3
   },
   "file_extension": ".py",
   "mimetype": "text/x-python",
   "name": "python",
   "nbconvert_exporter": "python",
   "pygments_lexer": "ipython3",
   "version": "3.11.7"
  }
 },
 "nbformat": 4,
 "nbformat_minor": 4
}

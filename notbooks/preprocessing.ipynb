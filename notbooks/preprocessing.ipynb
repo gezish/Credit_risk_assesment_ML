{
 "cells": [
  {
   "cell_type": "code",
   "execution_count": 1,
   "metadata": {},
   "outputs": [],
   "source": [
    "import pandas as pd\n",
    "from sklearn.model_selection import train_test_split\n",
    "from sklearn.preprocessing import StandardScaler, LabelEncoder\n"
   ]
  },
  {
   "cell_type": "markdown",
   "metadata": {},
   "source": [
    "The dataset used for this lab was obtained from:\n",
    "\n",
    "Manu Siddhartha, November 6, 2020, \"Bondora Peer-to-Peer Lending Data\", IEEE Dataport, doi: https://dx.doi.org/10.21227/33kz-0s65."
   ]
  },
  {
   "cell_type": "markdown",
   "metadata": {},
   "source": [
    "#### Load and observe the data set\n"
   ]
  },
  {
   "cell_type": "code",
   "execution_count": 3,
   "metadata": {
    "scrolled": true
   },
   "outputs": [
    {
     "data": {
      "text/html": [
       "<div>\n",
       "<style scoped>\n",
       "    .dataframe tbody tr th:only-of-type {\n",
       "        vertical-align: middle;\n",
       "    }\n",
       "\n",
       "    .dataframe tbody tr th {\n",
       "        vertical-align: top;\n",
       "    }\n",
       "\n",
       "    .dataframe thead th {\n",
       "        text-align: right;\n",
       "    }\n",
       "</style>\n",
       "<table border=\"1\" class=\"dataframe\">\n",
       "  <thead>\n",
       "    <tr style=\"text-align: right;\">\n",
       "      <th></th>\n",
       "      <th>new_customer</th>\n",
       "      <th>income_verification</th>\n",
       "      <th>language</th>\n",
       "      <th>age</th>\n",
       "      <th>gender</th>\n",
       "      <th>country</th>\n",
       "      <th>amount</th>\n",
       "      <th>loan_duration</th>\n",
       "      <th>use_of_loan</th>\n",
       "      <th>education</th>\n",
       "      <th>...</th>\n",
       "      <th>credit_score_equifax</th>\n",
       "      <th>credit_score_ee_mini</th>\n",
       "      <th>nr_previous_loans</th>\n",
       "      <th>amount_previous_loans</th>\n",
       "      <th>previous_repayments</th>\n",
       "      <th>previous_early_repayments</th>\n",
       "      <th>previous_early_repayments_count</th>\n",
       "      <th>default</th>\n",
       "      <th>credit_score_fi_asiakas_c</th>\n",
       "      <th>credit_score_fi_asiakas_n</th>\n",
       "    </tr>\n",
       "  </thead>\n",
       "  <tbody>\n",
       "    <tr>\n",
       "      <th>0</th>\n",
       "      <td>0</td>\n",
       "      <td>expenses_verified</td>\n",
       "      <td>estonian</td>\n",
       "      <td>23</td>\n",
       "      <td>male</td>\n",
       "      <td>EE</td>\n",
       "      <td>5500.0</td>\n",
       "      <td>60</td>\n",
       "      <td>loan_consolidation</td>\n",
       "      <td>secondary</td>\n",
       "      <td>...</td>\n",
       "      <td>NaN</td>\n",
       "      <td>1000.0</td>\n",
       "      <td>1</td>\n",
       "      <td>3000.0</td>\n",
       "      <td>571.73</td>\n",
       "      <td>0.0</td>\n",
       "      <td>0</td>\n",
       "      <td>0</td>\n",
       "      <td>NaN</td>\n",
       "      <td>NaN</td>\n",
       "    </tr>\n",
       "    <tr>\n",
       "      <th>1</th>\n",
       "      <td>0</td>\n",
       "      <td>expenses_verified</td>\n",
       "      <td>russian</td>\n",
       "      <td>25</td>\n",
       "      <td>male</td>\n",
       "      <td>EE</td>\n",
       "      <td>1200.0</td>\n",
       "      <td>60</td>\n",
       "      <td>other</td>\n",
       "      <td>vocational</td>\n",
       "      <td>...</td>\n",
       "      <td>NaN</td>\n",
       "      <td>1000.0</td>\n",
       "      <td>1</td>\n",
       "      <td>500.0</td>\n",
       "      <td>194.98</td>\n",
       "      <td>0.0</td>\n",
       "      <td>0</td>\n",
       "      <td>0</td>\n",
       "      <td>NaN</td>\n",
       "      <td>NaN</td>\n",
       "    </tr>\n",
       "    <tr>\n",
       "      <th>2</th>\n",
       "      <td>1</td>\n",
       "      <td>unverified</td>\n",
       "      <td>estonian</td>\n",
       "      <td>22</td>\n",
       "      <td>female</td>\n",
       "      <td>EE</td>\n",
       "      <td>1000.0</td>\n",
       "      <td>60</td>\n",
       "      <td>other</td>\n",
       "      <td>basic</td>\n",
       "      <td>...</td>\n",
       "      <td>NaN</td>\n",
       "      <td>700.0</td>\n",
       "      <td>0</td>\n",
       "      <td>0.0</td>\n",
       "      <td>0.00</td>\n",
       "      <td>0.0</td>\n",
       "      <td>0</td>\n",
       "      <td>1</td>\n",
       "      <td>NaN</td>\n",
       "      <td>NaN</td>\n",
       "    </tr>\n",
       "    <tr>\n",
       "      <th>3</th>\n",
       "      <td>1</td>\n",
       "      <td>unverified</td>\n",
       "      <td>finnish</td>\n",
       "      <td>49</td>\n",
       "      <td>female</td>\n",
       "      <td>FI</td>\n",
       "      <td>1000.0</td>\n",
       "      <td>60</td>\n",
       "      <td>other</td>\n",
       "      <td>basic</td>\n",
       "      <td>...</td>\n",
       "      <td>NaN</td>\n",
       "      <td>NaN</td>\n",
       "      <td>0</td>\n",
       "      <td>0.0</td>\n",
       "      <td>0.00</td>\n",
       "      <td>0.0</td>\n",
       "      <td>0</td>\n",
       "      <td>0</td>\n",
       "      <td>RL2</td>\n",
       "      <td>NaN</td>\n",
       "    </tr>\n",
       "    <tr>\n",
       "      <th>4</th>\n",
       "      <td>0</td>\n",
       "      <td>expenses_verified</td>\n",
       "      <td>estonian</td>\n",
       "      <td>25</td>\n",
       "      <td>female</td>\n",
       "      <td>EE</td>\n",
       "      <td>4100.0</td>\n",
       "      <td>60</td>\n",
       "      <td>loan_consolidation</td>\n",
       "      <td>secondary</td>\n",
       "      <td>...</td>\n",
       "      <td>NaN</td>\n",
       "      <td>1000.0</td>\n",
       "      <td>1</td>\n",
       "      <td>1500.0</td>\n",
       "      <td>1309.03</td>\n",
       "      <td>0.0</td>\n",
       "      <td>0</td>\n",
       "      <td>0</td>\n",
       "      <td>NaN</td>\n",
       "      <td>NaN</td>\n",
       "    </tr>\n",
       "  </tbody>\n",
       "</table>\n",
       "<p>5 rows × 33 columns</p>\n",
       "</div>"
      ],
      "text/plain": [
       "   new_customer income_verification  language  age  gender country  amount  \\\n",
       "0             0   expenses_verified  estonian   23    male      EE  5500.0   \n",
       "1             0   expenses_verified   russian   25    male      EE  1200.0   \n",
       "2             1          unverified  estonian   22  female      EE  1000.0   \n",
       "3             1          unverified   finnish   49  female      FI  1000.0   \n",
       "4             0   expenses_verified  estonian   25  female      EE  4100.0   \n",
       "\n",
       "   loan_duration         use_of_loan   education  ... credit_score_equifax  \\\n",
       "0             60  loan_consolidation   secondary  ...                  NaN   \n",
       "1             60               other  vocational  ...                  NaN   \n",
       "2             60               other       basic  ...                  NaN   \n",
       "3             60               other       basic  ...                  NaN   \n",
       "4             60  loan_consolidation   secondary  ...                  NaN   \n",
       "\n",
       "   credit_score_ee_mini nr_previous_loans amount_previous_loans  \\\n",
       "0                1000.0                 1                3000.0   \n",
       "1                1000.0                 1                 500.0   \n",
       "2                 700.0                 0                   0.0   \n",
       "3                   NaN                 0                   0.0   \n",
       "4                1000.0                 1                1500.0   \n",
       "\n",
       "  previous_repayments previous_early_repayments  \\\n",
       "0              571.73                       0.0   \n",
       "1              194.98                       0.0   \n",
       "2                0.00                       0.0   \n",
       "3                0.00                       0.0   \n",
       "4             1309.03                       0.0   \n",
       "\n",
       "  previous_early_repayments_count  default  credit_score_fi_asiakas_c  \\\n",
       "0                               0        0                        NaN   \n",
       "1                               0        0                        NaN   \n",
       "2                               0        1                        NaN   \n",
       "3                               0        0                        RL2   \n",
       "4                               0        0                        NaN   \n",
       "\n",
       "   credit_score_fi_asiakas_n  \n",
       "0                        NaN  \n",
       "1                        NaN  \n",
       "2                        NaN  \n",
       "3                        NaN  \n",
       "4                        NaN  \n",
       "\n",
       "[5 rows x 33 columns]"
      ]
     },
     "execution_count": 3,
     "metadata": {},
     "output_type": "execute_result"
    }
   ],
   "source": [
    "\n",
    "data = pd.read_csv('../data/loan_data.csv',low_memory=False )\n",
    "data.head()\n"
   ]
  },
  {
   "cell_type": "code",
   "execution_count": 4,
   "metadata": {},
   "outputs": [
    {
     "data": {
      "text/plain": [
       "(75693, 33)"
      ]
     },
     "execution_count": 4,
     "metadata": {},
     "output_type": "execute_result"
    }
   ],
   "source": [
    "data.shape"
   ]
  },
  {
   "cell_type": "code",
   "execution_count": 5,
   "metadata": {},
   "outputs": [
    {
     "name": "stdout",
     "output_type": "stream",
     "text": [
      "<class 'pandas.core.frame.DataFrame'>\n",
      "RangeIndex: 75693 entries, 0 to 75692\n",
      "Data columns (total 33 columns):\n",
      " #   Column                           Non-Null Count  Dtype  \n",
      "---  ------                           --------------  -----  \n",
      " 0   new_customer                     75693 non-null  int64  \n",
      " 1   income_verification              75693 non-null  object \n",
      " 2   language                         75693 non-null  object \n",
      " 3   age                              75693 non-null  int64  \n",
      " 4   gender                           75693 non-null  object \n",
      " 5   country                          75693 non-null  object \n",
      " 6   amount                           75693 non-null  float64\n",
      " 7   loan_duration                    75693 non-null  int64  \n",
      " 8   use_of_loan                      75693 non-null  object \n",
      " 9   education                        75693 non-null  object \n",
      " 10  marital_status                   75693 non-null  object \n",
      " 11  nr_dependants                    30677 non-null  float64\n",
      " 12  employment_status                75658 non-null  object \n",
      " 13  employment_duration              75322 non-null  object \n",
      " 14  work_experience                  31511 non-null  object \n",
      " 15  occupation                       75693 non-null  object \n",
      " 16  home_ownership                   75693 non-null  object \n",
      " 17  income                           75693 non-null  float64\n",
      " 18  existing_debt                    75693 non-null  int64  \n",
      " 19  total_debt                       75693 non-null  float64\n",
      " 20  debt_to_income                   75693 non-null  float64\n",
      " 21  disposable_income                75693 non-null  float64\n",
      " 22  credit_score_microL              51204 non-null  object \n",
      " 23  credit_score_equifax             11766 non-null  object \n",
      " 24  credit_score_ee_mini             34363 non-null  float64\n",
      " 25  nr_previous_loans                75693 non-null  int64  \n",
      " 26  amount_previous_loans            75693 non-null  float64\n",
      " 27  previous_repayments              56377 non-null  float64\n",
      " 28  previous_early_repayments        46789 non-null  float64\n",
      " 29  previous_early_repayments_count  75693 non-null  int64  \n",
      " 30  default                          75693 non-null  int64  \n",
      " 31  credit_score_fi_asiakas_c        6061 non-null   object \n",
      " 32  credit_score_fi_asiakas_n        14489 non-null  float64\n",
      "dtypes: float64(11), int64(7), object(15)\n",
      "memory usage: 19.1+ MB\n"
     ]
    }
   ],
   "source": [
    "data.info()"
   ]
  },
  {
   "cell_type": "markdown",
   "metadata": {},
   "source": [
    "##### Split the data"
   ]
  },
  {
   "cell_type": "code",
   "execution_count": null,
   "metadata": {},
   "outputs": [],
   "source": []
  },
  {
   "cell_type": "code",
   "execution_count": 8,
   "metadata": {},
   "outputs": [
    {
     "data": {
      "text/plain": [
       "new_customer                        0.000000\n",
       "income_verification                 0.000000\n",
       "language                            0.000000\n",
       "age                                 0.000000\n",
       "gender                              0.000000\n",
       "country                             0.000000\n",
       "amount                              0.000000\n",
       "loan_duration                       0.000000\n",
       "use_of_loan                         0.000000\n",
       "education                           0.000000\n",
       "marital_status                      0.000000\n",
       "nr_dependants                      59.471814\n",
       "employment_status                   0.046239\n",
       "employment_duration                 0.490138\n",
       "work_experience                    58.369995\n",
       "occupation                          0.000000\n",
       "home_ownership                      0.000000\n",
       "income                              0.000000\n",
       "existing_debt                       0.000000\n",
       "total_debt                          0.000000\n",
       "debt_to_income                      0.000000\n",
       "disposable_income                   0.000000\n",
       "credit_score_microL                32.353058\n",
       "credit_score_equifax               84.455630\n",
       "credit_score_ee_mini               54.602143\n",
       "nr_previous_loans                   0.000000\n",
       "amount_previous_loans               0.000000\n",
       "previous_repayments                25.518872\n",
       "previous_early_repayments          38.185830\n",
       "previous_early_repayments_count     0.000000\n",
       "default                             0.000000\n",
       "credit_score_fi_asiakas_c          91.992655\n",
       "credit_score_fi_asiakas_n          80.858204\n",
       "dtype: float64"
      ]
     },
     "execution_count": 8,
     "metadata": {},
     "output_type": "execute_result"
    }
   ],
   "source": [
    "missing_percentage = data.isnull().mean() * 100\n",
    "missing_percentage"
   ]
  },
  {
   "cell_type": "code",
   "execution_count": 38,
   "metadata": {},
   "outputs": [
    {
     "data": {
      "text/plain": [
       "Index(['ContractEndDate', 'NrOfDependants', 'EmploymentPosition',\n",
       "       'WorkExperience', 'PlannedPrincipalTillDate', 'CurrentDebtDaysPrimary',\n",
       "       'DebtOccuredOn', 'CurrentDebtDaysSecondary',\n",
       "       'DebtOccuredOnForSecondary', 'DefaultDate',\n",
       "       'PlannedPrincipalPostDefault', 'PlannedInterestPostDefault', 'EAD1',\n",
       "       'EAD2', 'PrincipalRecovery', 'InterestRecovery', 'RecoveryStage',\n",
       "       'EL_V0', 'Rating_V0', 'EL_V1', 'Rating_V1', 'Rating_V2',\n",
       "       'ActiveLateCategory', 'CreditScoreEsEquifaxRisk',\n",
       "       'CreditScoreFiAsiakasTietoRiskGrade', 'CreditScoreEeMini',\n",
       "       'PrincipalWriteOffs', 'InterestAndPenaltyWriteOffs',\n",
       "       'PreviousEarlyRepaymentsBefoleLoan', 'GracePeriodStart',\n",
       "       'GracePeriodEnd', 'NextPaymentDate', 'ReScheduledOn',\n",
       "       'PrincipalDebtServicingCost', 'InterestAndPenaltyDebtServicingCost',\n",
       "       'ActiveLateLastPaymentCategory'],\n",
       "      dtype='object')"
      ]
     },
     "execution_count": 38,
     "metadata": {},
     "output_type": "execute_result"
    }
   ],
   "source": [
    "missing_columns = data.columns[100*(data.isnull().sum()/len(data.index)) > 40]\n",
    "missing_columns"
   ]
  },
  {
   "cell_type": "code",
   "execution_count": 39,
   "metadata": {},
   "outputs": [],
   "source": [
    "lose_data = ['ContractEndDate', 'NrOfDependants', 'EmploymentPosition',\n",
    "       'WorkExperience', 'PlannedPrincipalTillDate', 'CurrentDebtDaysPrimary',\n",
    "       'DebtOccuredOn', 'CurrentDebtDaysSecondary',\n",
    "       'DebtOccuredOnForSecondary', 'DefaultDate',\n",
    "       'PlannedPrincipalPostDefault', 'PlannedInterestPostDefault', 'EAD1',\n",
    "       'EAD2', 'PrincipalRecovery', 'InterestRecovery', 'RecoveryStage',\n",
    "       'EL_V0', 'Rating_V0', 'EL_V1', 'Rating_V1', 'Rating_V2',\n",
    "       'ActiveLateCategory', 'CreditScoreEsEquifaxRisk',\n",
    "       'CreditScoreFiAsiakasTietoRiskGrade', 'CreditScoreEeMini',\n",
    "       'PrincipalWriteOffs', 'InterestAndPenaltyWriteOffs',\n",
    "       'PreviousEarlyRepaymentsBefoleLoan', 'GracePeriodStart',\n",
    "       'GracePeriodEnd', 'NextPaymentDate', 'ReScheduledOn',\n",
    "       'PrincipalDebtServicingCost', 'InterestAndPenaltyDebtServicingCost',\n",
    "       'ActiveLateLastPaymentCategory']\n"
   ]
  },
  {
   "cell_type": "code",
   "execution_count": 40,
   "metadata": {},
   "outputs": [
    {
     "data": {
      "text/plain": [
       "(134529, 112)"
      ]
     },
     "execution_count": 40,
     "metadata": {},
     "output_type": "execute_result"
    }
   ],
   "source": [
    "data.shape"
   ]
  },
  {
   "cell_type": "code",
   "execution_count": 41,
   "metadata": {},
   "outputs": [
    {
     "name": "stdout",
     "output_type": "stream",
     "text": [
      "<class 'pandas.core.frame.DataFrame'>\n",
      "RangeIndex: 134529 entries, 0 to 134528\n",
      "Data columns (total 76 columns):\n",
      " #   Column                                  Non-Null Count   Dtype  \n",
      "---  ------                                  --------------   -----  \n",
      " 0   ReportAsOfEOD                           134529 non-null  object \n",
      " 1   LoanId                                  134529 non-null  object \n",
      " 2   LoanNumber                              134529 non-null  int64  \n",
      " 3   ListedOnUTC                             134529 non-null  object \n",
      " 4   BiddingStartedOn                        134529 non-null  object \n",
      " 5   BidsPortfolioManager                    134529 non-null  int64  \n",
      " 6   BidsApi                                 134529 non-null  int64  \n",
      " 7   BidsManual                              134529 non-null  float64\n",
      " 8   UserName                                134529 non-null  object \n",
      " 9   NewCreditCustomer                       134529 non-null  bool   \n",
      " 10  LoanApplicationStartedDate              134529 non-null  object \n",
      " 11  LoanDate                                134529 non-null  object \n",
      " 12  FirstPaymentDate                        134529 non-null  object \n",
      " 13  MaturityDate_Original                   134529 non-null  object \n",
      " 14  MaturityDate_Last                       134529 non-null  object \n",
      " 15  ApplicationSignedHour                   134529 non-null  int64  \n",
      " 16  ApplicationSignedWeekday                134529 non-null  int64  \n",
      " 17  VerificationType                        134484 non-null  float64\n",
      " 18  LanguageCode                            134529 non-null  int64  \n",
      " 19  Age                                     134529 non-null  int64  \n",
      " 20  DateOfBirth                             134529 non-null  object \n",
      " 21  Gender                                  134484 non-null  float64\n",
      " 22  Country                                 134529 non-null  object \n",
      " 23  AppliedAmount                           134529 non-null  float64\n",
      " 24  Amount                                  134529 non-null  float64\n",
      " 25  Interest                                134529 non-null  float64\n",
      " 26  LoanDuration                            134529 non-null  int64  \n",
      " 27  MonthlyPayment                          127844 non-null  float64\n",
      " 28  County                                  97689 non-null   object \n",
      " 29  City                                    124735 non-null  object \n",
      " 30  UseOfLoan                               134529 non-null  int64  \n",
      " 31  Education                               134484 non-null  float64\n",
      " 32  MaritalStatus                           134484 non-null  float64\n",
      " 33  EmploymentStatus                        134332 non-null  float64\n",
      " 34  EmploymentDurationCurrentEmployer       133653 non-null  object \n",
      " 35  OccupationArea                          134443 non-null  float64\n",
      " 36  HomeOwnershipType                       132877 non-null  float64\n",
      " 37  IncomeFromPrincipalEmployer             134529 non-null  float64\n",
      " 38  IncomeFromPension                       134529 non-null  float64\n",
      " 39  IncomeFromFamilyAllowance               134529 non-null  float64\n",
      " 40  IncomeFromSocialWelfare                 134529 non-null  float64\n",
      " 41  IncomeFromLeavePay                      134529 non-null  float64\n",
      " 42  IncomeFromChildSupport                  134529 non-null  float64\n",
      " 43  IncomeOther                             134529 non-null  float64\n",
      " 44  IncomeTotal                             134529 non-null  float64\n",
      " 45  ExistingLiabilities                     134529 non-null  int64  \n",
      " 46  LiabilitiesTotal                        134529 non-null  float64\n",
      " 47  RefinanceLiabilities                    134529 non-null  int64  \n",
      " 48  DebtToIncome                            134484 non-null  float64\n",
      " 49  FreeCash                                134484 non-null  float64\n",
      " 50  MonthlyPaymentDay                       134529 non-null  int64  \n",
      " 51  ActiveScheduleFirstPaymentReached       134529 non-null  bool   \n",
      " 52  PlannedInterestTillDate                 130587 non-null  float64\n",
      " 53  LastPaymentOn                           124998 non-null  object \n",
      " 54  ExpectedLoss                            131893 non-null  float64\n",
      " 55  LossGivenDefault                        131893 non-null  float64\n",
      " 56  ExpectedReturn                          131893 non-null  float64\n",
      " 57  ProbabilityOfDefault                    131893 non-null  float64\n",
      " 58  PrincipalOverdueBySchedule              119692 non-null  float64\n",
      " 59  StageActiveSince                        80954 non-null   object \n",
      " 60  ModelVersion                            131893 non-null  float64\n",
      " 61  Rating                                  131799 non-null  object \n",
      " 62  Status                                  134529 non-null  object \n",
      " 63  Restructured                            134529 non-null  bool   \n",
      " 64  WorseLateCategory                       89073 non-null   object \n",
      " 65  CreditScoreEsMicroL                     104955 non-null  object \n",
      " 66  PrincipalPaymentsMade                   134529 non-null  float64\n",
      " 67  InterestAndPenaltyPaymentsMade          134529 non-null  float64\n",
      " 68  PrincipalBalance                        134529 non-null  float64\n",
      " 69  InterestAndPenaltyBalance               134529 non-null  float64\n",
      " 70  NoOfPreviousLoansBeforeLoan             134529 non-null  int64  \n",
      " 71  AmountOfPreviousLoansBeforeLoan         134529 non-null  float64\n",
      " 72  PreviousRepaymentsBeforeLoan            91368 non-null   float64\n",
      " 73  PreviousEarlyRepaymentsCountBeforeLoan  134529 non-null  int64  \n",
      " 74  NextPaymentNr                           97788 non-null   float64\n",
      " 75  NrOfScheduledPayments                   97788 non-null   float64\n",
      "dtypes: bool(3), float64(38), int64(14), object(21)\n",
      "memory usage: 75.3+ MB\n"
     ]
    }
   ],
   "source": [
    "new_df = data.drop(lose_data, axis=1)\n",
    "new_df.info()"
   ]
  },
  {
   "cell_type": "code",
   "execution_count": null,
   "metadata": {},
   "outputs": [],
   "source": []
  },
  {
   "cell_type": "code",
   "execution_count": null,
   "metadata": {},
   "outputs": [],
   "source": []
  },
  {
   "cell_type": "code",
   "execution_count": null,
   "metadata": {},
   "outputs": [],
   "source": []
  },
  {
   "cell_type": "code",
   "execution_count": null,
   "metadata": {},
   "outputs": [],
   "source": []
  },
  {
   "cell_type": "code",
   "execution_count": null,
   "metadata": {},
   "outputs": [],
   "source": [
    "\n",
    "# Handle missing values\n",
    "data.dropna(inplace=True)\n",
    "\n",
    "# Encode categorical variables\n",
    "label_encoders = {}\n",
    "for column in categorical_columns:\n",
    "    label_encoders[column] = LabelEncoder()\n",
    "    data[column] = label_encoders[column].fit_transform(data[column])\n",
    "\n",
    "# Split data into features and target variable\n",
    "X = data.drop(columns=['target_variable'])\n",
    "y = data['target_variable']\n"
   ]
  },
  {
   "cell_type": "code",
   "execution_count": null,
   "metadata": {},
   "outputs": [],
   "source": [
    "# Scale numerical features\n",
    "scaler = StandardScaler()\n",
    "X[numerical_columns] = scaler.fit_transform(X[numerical_columns])\n",
    "\n",
    "# Split data into training and testing sets\n",
    "X_train, X_test, y_train, y_test = train_test_split(X, y, test_size=0.2, random_state=42)\n"
   ]
  },
  {
   "cell_type": "code",
   "execution_count": null,
   "metadata": {},
   "outputs": [],
   "source": []
  },
  {
   "cell_type": "code",
   "execution_count": null,
   "metadata": {},
   "outputs": [],
   "source": []
  },
  {
   "cell_type": "code",
   "execution_count": null,
   "metadata": {},
   "outputs": [],
   "source": []
  }
 ],
 "metadata": {
  "kernelspec": {
   "display_name": "Python 3 (ipykernel)",
   "language": "python",
   "name": "python3"
  },
  "language_info": {
   "codemirror_mode": {
    "name": "ipython",
    "version": 3
   },
   "file_extension": ".py",
   "mimetype": "text/x-python",
   "name": "python",
   "nbconvert_exporter": "python",
   "pygments_lexer": "ipython3",
   "version": "3.10.9"
  }
 },
 "nbformat": 4,
 "nbformat_minor": 4
}

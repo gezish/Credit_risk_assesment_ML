{
 "cells": [
  {
   "cell_type": "code",
   "execution_count": 2,
   "id": "3b12fbd5",
   "metadata": {},
   "outputs": [],
   "source": [
    "import pandas as pd\n",
    "from sklearn.model_selection import train_test_split\n",
    "from sklearn.preprocessing import StandardScaler, LabelEncoder\n",
    "pd.set_option('display.max_columns', 500)"
   ]
  },
  {
   "cell_type": "markdown",
   "id": "35cf30e3",
   "metadata": {},
   "source": [
    "1. Load, Understand the Data and Split the Data"
   ]
  },
  {
   "cell_type": "code",
   "execution_count": null,
   "id": "4ac193dc",
   "metadata": {},
   "outputs": [],
   "source": [
    "# Load data\n",
    "data = pd.read_csv('./loan_data.csv', low_memory=False)\n",
    "data.head()"
   ]
  },
  {
   "cell_type": "code",
   "execution_count": null,
   "id": "b5795ab7",
   "metadata": {},
   "outputs": [],
   "source": [
    "data.info()"
   ]
  },
  {
   "cell_type": "code",
   "execution_count": null,
   "id": "6f373195",
   "metadata": {},
   "outputs": [],
   "source": [
    "data.shape"
   ]
  },
  {
   "cell_type": "markdown",
   "id": "37032a72",
   "metadata": {},
   "source": [
    "- Split the data set into a train set containing 70% of the customers and a test set containing the remaining 30%:"
   ]
  },
  {
   "cell_type": "code",
   "execution_count": null,
   "id": "6cb90b34",
   "metadata": {},
   "outputs": [],
   "source": [
    "X_train, X_test, y_train, y_test = train_test_split(\n",
    "    df.drop(\"default\", axis=1),\n",
    "    df[\"default\"],\n",
    "    test_size=0.30,\n",
    "    random_state=10,\n",
    ")"
   ]
  },
  {
   "cell_type": "markdown",
   "id": "60e2466f",
   "metadata": {},
   "source": [
    "- Split the test set from step 3 into two test sets containing 50% of the remaining customers each:"
   ]
  },
  {
   "cell_type": "code",
   "execution_count": null,
   "id": "95e0d586",
   "metadata": {},
   "outputs": [],
   "source": [
    "X_eval, X_holdout, y_eval, y_holdout = train_test_split(\n",
    "    X_test,\n",
    "    y_test,\n",
    "    test_size=0.50,\n",
    "    random_state=10,\n",
    ")"
   ]
  },
  {
   "cell_type": "markdown",
   "id": "be3cd6b7",
   "metadata": {},
   "source": [
    "- Inspect the shape of the resulting data sets:"
   ]
  },
  {
   "cell_type": "code",
   "execution_count": null,
   "id": "1f4d23b7",
   "metadata": {},
   "outputs": [],
   "source": [
    "X_train.shape, X_eval.shape, X_holdout.shape"
   ]
  },
  {
   "cell_type": "code",
   "execution_count": null,
   "id": "0cc0ab4d",
   "metadata": {},
   "outputs": [],
   "source": [
    "- Finally, calculate the default rate in each data set:"
   ]
  },
  {
   "cell_type": "code",
   "execution_count": null,
   "id": "e26b7f53",
   "metadata": {},
   "outputs": [],
   "source": [
    "y_train.mean(), y_eval.mean(), y_holdout.mean()"
   ]
  },
  {
   "cell_type": "code",
   "execution_count": null,
   "id": "8e856e45",
   "metadata": {},
   "outputs": [],
   "source": []
  },
  {
   "cell_type": "code",
   "execution_count": null,
   "id": "e8561468",
   "metadata": {},
   "outputs": [],
   "source": []
  },
  {
   "cell_type": "code",
   "execution_count": null,
   "id": "409e00d0",
   "metadata": {},
   "outputs": [],
   "source": []
  },
  {
   "cell_type": "code",
   "execution_count": null,
   "id": "142da763",
   "metadata": {},
   "outputs": [],
   "source": []
  },
  {
   "cell_type": "code",
   "execution_count": null,
   "id": "11a03985",
   "metadata": {},
   "outputs": [],
   "source": []
  },
  {
   "cell_type": "code",
   "execution_count": null,
   "id": "86f01253",
   "metadata": {},
   "outputs": [],
   "source": []
  },
  {
   "cell_type": "code",
   "execution_count": null,
   "id": "835c2e06",
   "metadata": {},
   "outputs": [],
   "source": []
  },
  {
   "cell_type": "code",
   "execution_count": null,
   "id": "34ea2573",
   "metadata": {},
   "outputs": [],
   "source": []
  },
  {
   "cell_type": "code",
   "execution_count": null,
   "id": "3e68eee5",
   "metadata": {},
   "outputs": [],
   "source": []
  },
  {
   "cell_type": "code",
   "execution_count": null,
   "id": "014e573d",
   "metadata": {},
   "outputs": [],
   "source": []
  }
 ],
 "metadata": {
  "kernelspec": {
   "display_name": "Python 3 (ipykernel)",
   "language": "python",
   "name": "python3"
  },
  "language_info": {
   "codemirror_mode": {
    "name": "ipython",
    "version": 3
   },
   "file_extension": ".py",
   "mimetype": "text/x-python",
   "name": "python",
   "nbconvert_exporter": "python",
   "pygments_lexer": "ipython3",
   "version": "3.10.9"
  }
 },
 "nbformat": 4,
 "nbformat_minor": 5
}
